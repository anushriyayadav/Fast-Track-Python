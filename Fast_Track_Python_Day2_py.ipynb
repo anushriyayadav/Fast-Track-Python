{
  "nbformat": 4,
  "nbformat_minor": 0,
  "metadata": {
    "colab": {
      "name": "Fast_Track_Python_Day2.py",
      "provenance": [],
      "authorship_tag": "ABX9TyPQFCBNWyOawd2SuzqGFv8b",
      "include_colab_link": true
    },
    "kernelspec": {
      "name": "python3",
      "display_name": "Python 3"
    },
    "language_info": {
      "name": "python"
    }
  },
  "cells": [
    {
      "cell_type": "markdown",
      "metadata": {
        "id": "view-in-github",
        "colab_type": "text"
      },
      "source": [
        "<a href=\"https://colab.research.google.com/github/anushriyayadav/Fast-Track-Python/blob/main/Fast_Track_Python_Day2_py.ipynb\" target=\"_parent\"><img src=\"https://colab.research.google.com/assets/colab-badge.svg\" alt=\"Open In Colab\"/></a>"
      ]
    },
    {
      "cell_type": "markdown",
      "metadata": {
        "id": "AaEYLFEb1fYD"
      },
      "source": [
        "Get the string from the user. convert the string into list"
      ]
    },
    {
      "cell_type": "code",
      "metadata": {
        "id": "xt8vXidpv3ME"
      },
      "source": [
        "str = input(\"enter string\")\n",
        "lst = list(str.split())\n",
        "if \" \" in lst:\n",
        "  lst.remove(\" \")\n",
        "if \",\" in lst:\n",
        "  lst.remove(\",\")\n",
        "print(lst)"
      ],
      "execution_count": null,
      "outputs": []
    },
    {
      "cell_type": "markdown",
      "metadata": {
        "id": "ac3qnbBu13yY"
      },
      "source": [
        "Calculate the 2 to the power of 5 "
      ]
    },
    {
      "cell_type": "code",
      "metadata": {
        "id": "OMOZfoyS13TH"
      },
      "source": [
        "base = 2\n",
        "power = 5\n",
        "for i in range (0,4):\n",
        "  base *=2\n",
        "print(\"2 to the power of 5\",base)"
      ],
      "execution_count": null,
      "outputs": []
    },
    {
      "cell_type": "markdown",
      "metadata": {
        "id": "jzLumEMd2sbF"
      },
      "source": [
        "Develop Arithmetic calculator based on user choice the program should perform arithmetic operation (Any 7 opeations)\n"
      ]
    },
    {
      "cell_type": "code",
      "metadata": {
        "id": "IqqlLxVw21cn"
      },
      "source": [
        "#+ - % / // * ^\n",
        "a = int(input(\"enter a number\"))\n",
        "b = int(input(\"enter a number\"))\n",
        "c = 1\n",
        "op = 1\n",
        "\n",
        "while(op==1 or op ==2):\n",
        "  operator = input(\"enter an operator\")\n",
        "  if op==2:\n",
        "    a = int(input(\"enter a number\"))\n",
        "    b = int(input(\"enter a number\"))\n",
        "  if operator == \"+\":\n",
        "    print (\"addition = \",a+b)\n",
        "  elif operator == \"-\":\n",
        "    print (\"Subtraction =\",a-b)\n",
        "  elif operator == \"%\":\n",
        "    print (\"Modulo = \",a%b)\n",
        "  elif operator == \"/\":\n",
        "    print (\"Division = \",a/b)\n",
        "  elif operator == \"//\":\n",
        "    print (\"True Division =\",a//b)\n",
        "  elif operator == \"*\":\n",
        "    print (\"Multiplication =\",a*b)\n",
        "  elif operator == \"^\":\n",
        "    for i in range(0,b):\n",
        "      c*=a;\n",
        "    print (a,\"to the power of\",b,\" = \",c)\n",
        "  else :\n",
        "    print(\"Invalid Operator\")\n",
        "    break\n",
        "  op = int(input(\"Enter 1 to perform another operation or 2 to change values and operator\"))"
      ],
      "execution_count": null,
      "outputs": []
    },
    {
      "cell_type": "markdown",
      "metadata": {
        "id": "JxDsDNqM22Yh"
      },
      "source": [
        "Develop String Calculator based on user choice the program should perform string operations (Any 5 operations )"
      ]
    },
    {
      "cell_type": "code",
      "metadata": {
        "id": "M06ksP2W3ApJ"
      },
      "source": [
        "string = input(\"Enter a String\")\n",
        "op = 1\n",
        "while (op == 1 or op == 2):\n",
        "  operator = input(\"Enter l for LowerCase, u for UpperCase, c for Count, s for Split and C for concat\")\n",
        "  \n",
        "  if op == 2:\n",
        "    string = input(\"Enter a String\")\n",
        "  if operator == \"l\":\n",
        "    print(string.lower())\n",
        "  elif operator == \"u\":\n",
        "    print(string.upper())\n",
        "  elif operator == \"c\":\n",
        "    print(string.count(input(\"letter to count\")))\n",
        "  elif operator == \"s\":\n",
        "    print(string.split())\n",
        "  elif operator == \"C\":\n",
        "    string2 = input(\"enter another string\")\n",
        "    print(string+string2)\n",
        "  else:\n",
        "    print(\"Invalid Input\")\n",
        "    break\n",
        "  op = int(input(\"Enter 1 to perform another operation or 2 to change string and operator\"))\n"
      ],
      "execution_count": null,
      "outputs": []
    },
    {
      "cell_type": "markdown",
      "metadata": {
        "id": "syLNDdou3BNS"
      },
      "source": [
        "Write a program to prompt the user for hours and rate per hour to compute gross pay.Take into account that the university gives the employee 2.5 times the hourly rate for hours worked above 50 hours."
      ]
    },
    {
      "cell_type": "code",
      "metadata": {
        "id": "iR8_3mKD3Cj2"
      },
      "source": [
        "hrs = float(input(\"enter hrs worked\"))\n",
        "minlim = 50\n",
        "rate  = float(input(\"enter per hr rate\"))\n",
        "if (hrs<=minlim):\n",
        "  print(\"Gross pay = \",hrs*rate)\n",
        "else:\n",
        "  print(rate*minlim+(hrs-minlim)*rate*2.5)"
      ],
      "execution_count": null,
      "outputs": []
    },
    {
      "cell_type": "markdown",
      "metadata": {
        "id": "DvnxPbuH3HLt"
      },
      "source": [
        "Create a list called hobbies. Create a for loop that prompts the user for a hobby 3 times, then appends each one to hobbies in the list"
      ]
    },
    {
      "cell_type": "code",
      "metadata": {
        "id": "_f3ft_pm3ME8"
      },
      "source": [
        "hobbies = []\n",
        "for i in range(0,3):\n",
        "  hobbie = input(\"enter your hobbie\")\n",
        "  hobbies.append(hobbie)\n",
        "print(hobbies)"
      ],
      "execution_count": null,
      "outputs": []
    },
    {
      "cell_type": "markdown",
      "metadata": {
        "id": "OQlLeDGR3MhC"
      },
      "source": [
        "Write a Python program to check whether the given integer is a multiple of both 5 and 7 ."
      ]
    },
    {
      "cell_type": "code",
      "metadata": {
        "id": "0w907Xj33Ri-"
      },
      "source": [
        "integer = int(input(\"enter a number\"))\n",
        "if (integer % 5 == 0 and integer % 7 == 0):\n",
        "  print(integer , \"is multiple of both 5 and 7\")\n",
        "else:\n",
        "  print(integer , \"is not a multiple of both 5 and 7\")  "
      ],
      "execution_count": null,
      "outputs": []
    },
    {
      "cell_type": "markdown",
      "metadata": {
        "id": "p0h0RtOMSRWO"
      },
      "source": [
        "Find the error and correct the mistakes \n",
        "the main idea of this code is to print the data from the dictionary (Data structure)"
      ]
    },
    {
      "cell_type": "code",
      "metadata": {
        "colab": {
          "base_uri": "https://localhost:8080/"
        },
        "id": "xVvv2fbHSTiz",
        "outputId": "49f7aaaa-df01-41df-d43c-9fa066d05894"
      },
      "source": [
        "phone_book = {\n",
        "'John' : [ '8592970000', 'john@xyzmail.com', 'Humpi' ],\n",
        "'Bob': [ '7994880000', 'bob@xyzmail.com','Manipal' ],\n",
        "'Tom' : [ '9749552647' , 'tom@xyzmail.com','Udupi' ]}\n",
        "\n",
        "for k,v in phone_book.items(): \n",
        "  print(k, \":\", v)\n"
      ],
      "execution_count": 42,
      "outputs": [
        {
          "output_type": "stream",
          "name": "stdout",
          "text": [
            "John : ['8592970000', 'john@xyzmail.com', 'Humpi']\n",
            "Bob : ['7994880000', 'bob@xyzmail.com', 'Manipal']\n",
            "Tom : ['9749552647', 'tom@xyzmail.com', 'Udupi']\n"
          ]
        }
      ]
    },
    {
      "cell_type": "markdown",
      "metadata": {
        "id": "bWS4rd6QSwRa"
      },
      "source": [
        "Print all the numbers between 2 and 8"
      ]
    },
    {
      "cell_type": "code",
      "metadata": {
        "colab": {
          "base_uri": "https://localhost:8080/"
        },
        "id": "XE62uS6nSyi_",
        "outputId": "d4d06dee-e83e-4823-b25e-642a3223e895"
      },
      "source": [
        "list = [i for i in range(10) if (i < 8) and (i > 2) ]\n",
        "print(list)"
      ],
      "execution_count": 48,
      "outputs": [
        {
          "output_type": "stream",
          "name": "stdout",
          "text": [
            "[3, 4, 5, 6, 7]\n"
          ]
        }
      ]
    },
    {
      "cell_type": "markdown",
      "metadata": {
        "id": "SYu6Q5SwTQKS"
      },
      "source": [
        "find the bug\n",
        "Suppose you are trying to compute a signal-to-noise ratio in decibels. The formula is SNRdb = 10log10(Psignal /Pnoise).\n"
      ]
    },
    {
      "cell_type": "code",
      "metadata": {
        "colab": {
          "base_uri": "https://localhost:8080/"
        },
        "id": "jn0IZJG2VgsE",
        "outputId": "d3c70145-5edf-4394-955d-7fb7b8acb80e"
      },
      "source": [
        "import math\n",
        "signal_power = 9\n",
        "noise_power = 10\n",
        "ratio = signal_power / noise_power\n",
        "print(ratio)\n",
        "decibels = 10 * (math.log10(ratio))\n",
        "print (decibels)\n"
      ],
      "execution_count": 52,
      "outputs": [
        {
          "output_type": "stream",
          "name": "stdout",
          "text": [
            "0.9\n",
            "-0.4575749056067512\n"
          ]
        }
      ]
    },
    {
      "cell_type": "markdown",
      "metadata": {
        "id": "SZ36_AQSYgpJ"
      },
      "source": [
        "Check whether the number is present in the list or not "
      ]
    },
    {
      "cell_type": "code",
      "metadata": {
        "colab": {
          "base_uri": "https://localhost:8080/"
        },
        "id": "7_AzkL-2YhUr",
        "outputId": "4b6134c3-0b48-4ee2-ee55-a282206aeaf1"
      },
      "source": [
        "a = int(input(\"enter a number\"))\n",
        "list = [1, 2, 3, 4, 5 ]\n",
        "# in is used to check whether the member is present or not \n",
        "if a in list :\n",
        "  print(a,\"is present in the list\")\n",
        "else: \n",
        "  print(a,\"is not present in the list\")\n",
        "  # fill the blanks\n"
      ],
      "execution_count": 55,
      "outputs": [
        {
          "output_type": "stream",
          "name": "stdout",
          "text": [
            "enter a number10\n",
            "10 is not present in the list\n"
          ]
        }
      ]
    },
    {
      "cell_type": "markdown",
      "metadata": {
        "id": "dig6advzZJN4"
      },
      "source": [
        "check whether the number is same or not \n",
        "use of identity opeartor is \n",
        "find the bug \n"
      ]
    },
    {
      "cell_type": "code",
      "metadata": {
        "colab": {
          "base_uri": "https://localhost:8080/"
        },
        "id": "2Qx_co8KZHPT",
        "outputId": "d4949d7a-982b-4445-9a86-cea63851f33b"
      },
      "source": [
        "a=10\n",
        "b=20 \n",
        "if ( a is not b ):\n",
        "  print (\"a and b do not have same identity\")\n",
        "else:\n",
        "  print (\"a and b have same identity\")\n"
      ],
      "execution_count": 58,
      "outputs": [
        {
          "output_type": "stream",
          "name": "stdout",
          "text": [
            "a and b do not have same identity\n"
          ]
        }
      ]
    },
    {
      "cell_type": "markdown",
      "metadata": {
        "id": "ynNLFtUEZuw-"
      },
      "source": [
        "# Find the bug \n",
        "\n",
        "# Prints out 0,1,2,3,4 using while loop"
      ]
    },
    {
      "cell_type": "code",
      "metadata": {
        "colab": {
          "base_uri": "https://localhost:8080/"
        },
        "id": "7ELmjRiHbVt7",
        "outputId": "3138d337-c052-4248-c4d1-f14b0f33c3f5"
      },
      "source": [
        "count = 0\n",
        "while True:\n",
        "    print(count  ,end=\",\")\n",
        "    count +=1\n",
        "    if count >= 5:\n",
        "      break\n"
      ],
      "execution_count": 74,
      "outputs": [
        {
          "output_type": "stream",
          "name": "stdout",
          "text": [
            "0 1 2 3 4 "
          ]
        }
      ]
    },
    {
      "cell_type": "markdown",
      "metadata": {
        "id": "ed4bazQzeYzd"
      },
      "source": [
        ""
      ]
    },
    {
      "cell_type": "markdown",
      "metadata": {
        "id": "XfcN1kJ9ec5q"
      },
      "source": [
        "Prints out only even numbers - 2,4,6,8,10 using for loop and continue\n",
        "find the bug \n"
      ]
    },
    {
      "cell_type": "code",
      "metadata": {
        "colab": {
          "base_uri": "https://localhost:8080/"
        },
        "id": "id6CmG3zeZal",
        "outputId": "f1dd412a-09c9-4475-c7d7-dfedb6cde1e8"
      },
      "source": [
        "\n",
        "for x in range(11):\n",
        "    # Check if x is even\n",
        "    if not x % 2 == 0:\n",
        "        continue\n",
        "    print(x,end=\",\")\n"
      ],
      "execution_count": 77,
      "outputs": [
        {
          "output_type": "stream",
          "name": "stdout",
          "text": [
            "0,2,4,6,8,10,"
          ]
        }
      ]
    },
    {
      "cell_type": "markdown",
      "metadata": {
        "id": "VsvSHYD6fM9L"
      },
      "source": [
        "Printing even and odd numbers using for loop and ternary operator\n",
        "find the bug "
      ]
    },
    {
      "cell_type": "code",
      "metadata": {
        "colab": {
          "base_uri": "https://localhost:8080/"
        },
        "id": "de6e6bg1fNmV",
        "outputId": "345ba31c-621f-4fe6-f71b-784e5bff2804"
      },
      "source": [
        "\n",
        "\n",
        "for i in range(10):\n",
        "    (print(i , \" is even number\") if(i % 2 == 0) else print(i , \" is odd number\"))\n",
        "\n"
      ],
      "execution_count": 82,
      "outputs": [
        {
          "output_type": "stream",
          "name": "stdout",
          "text": [
            "0  is even number\n",
            "1  is odd number\n",
            "2  is even number\n",
            "3  is odd number\n",
            "4  is even number\n",
            "5  is odd number\n",
            "6  is even number\n",
            "7  is odd number\n",
            "8  is even number\n",
            "9  is odd number\n"
          ]
        }
      ]
    },
    {
      "cell_type": "markdown",
      "metadata": {
        "id": "L3bvBMVRgrnk"
      },
      "source": [
        "Write a program which will find all such numbers which are divisible by 7 but are not a multiple of 5,\n",
        "between 5 and 4570 (both included).\n"
      ]
    },
    {
      "cell_type": "code",
      "metadata": {
        "id": "GAVOGw9cgsM0"
      },
      "source": [
        "for i in range(5,4571):\n",
        "  if(i%7==0 and i%5!=0):\n",
        "    print(i)\n",
        "\n"
      ],
      "execution_count": null,
      "outputs": []
    },
    {
      "cell_type": "markdown",
      "metadata": {
        "id": "O9wbwP5nimP_"
      },
      "source": [
        "Write a program which accepts input to convert the temperature from one unit to another based on user choice \n",
        "fahrenheit to celsius or celsius to fahrenheit until they say \"Quit\".\n",
        "\n",
        "Hint: infinite loop\n"
      ]
    },
    {
      "cell_type": "code",
      "metadata": {
        "id": "3HLRNBqoimsb"
      },
      "source": [
        "choise = input(\"enter c or f\")\n",
        "temp = int(input(\"enter temperature\"))\n",
        "while (True):\n",
        "  if choise==\"c\":\n",
        "    temp=temp*9/5+32\n",
        "    print(temp,\"F\")\n",
        "    choise = \"f\"\n",
        "  else:\n",
        "    temp=(temp-32)*5/9\n",
        "    print(temp,\"C\")\n",
        "    choise = \"c\""
      ],
      "execution_count": null,
      "outputs": []
    },
    {
      "cell_type": "markdown",
      "metadata": {
        "id": "VtEcAcO9c8EF"
      },
      "source": [
        "Write a program that converts the temperature in Celsius to Fahrenheit. Have the program output two columns. In the first column, it prints out the temperature in Celsius, and the second in Fahrenheit. Have the data print out all integer values of Celsius from 0 to 100 in 3 degree increments. Have the data print out the Fahrenheit to 1 decimal"
      ]
    },
    {
      "cell_type": "code",
      "metadata": {
        "colab": {
          "base_uri": "https://localhost:8080/"
        },
        "id": "y0RRHr-4dE98",
        "outputId": "dd5d9942-0c6e-4fbc-822d-f55a50d4471a"
      },
      "source": [
        "\n",
        "for i in range(0,101,4):\n",
        "  temp = i*9/5+32\n",
        "  print(i,\"C\",\"\\t\",temp,\"F\")\n",
        "  "
      ],
      "execution_count": 4,
      "outputs": [
        {
          "output_type": "stream",
          "name": "stdout",
          "text": [
            "0 C \t 32.0 F\n",
            "4 C \t 39.2 F\n",
            "8 C \t 46.4 F\n",
            "12 C \t 53.6 F\n",
            "16 C \t 60.8 F\n",
            "20 C \t 68.0 F\n",
            "24 C \t 75.2 F\n",
            "28 C \t 82.4 F\n",
            "32 C \t 89.6 F\n",
            "36 C \t 96.8 F\n",
            "40 C \t 104.0 F\n",
            "44 C \t 111.2 F\n",
            "48 C \t 118.4 F\n",
            "52 C \t 125.6 F\n",
            "56 C \t 132.8 F\n",
            "60 C \t 140.0 F\n",
            "64 C \t 147.2 F\n",
            "68 C \t 154.4 F\n",
            "72 C \t 161.6 F\n",
            "76 C \t 168.8 F\n",
            "80 C \t 176.0 F\n",
            "84 C \t 183.2 F\n",
            "88 C \t 190.4 F\n",
            "92 C \t 197.6 F\n",
            "96 C \t 204.8 F\n",
            "100 C \t 212.0 F\n"
          ]
        }
      ]
    }
  ]
}